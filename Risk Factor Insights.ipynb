{
 "cells": [
  {
   "cell_type": "code",
   "execution_count": 2,
   "id": "1c8daddc-a4a1-4ccc-afbc-edaa5f407f5b",
   "metadata": {},
   "outputs": [],
   "source": [
    "### import the necessary library\n",
    "import pandas as pd\n",
    "\n",
    "# Load the cleaned dataset\n",
    "df = pd.read_csv(\"Cleaned_Merged_Data.csv\")"
   ]
  },
  {
   "cell_type": "code",
   "execution_count": 3,
   "id": "f12620e4-d262-4c02-a1bf-01d369a9772a",
   "metadata": {},
   "outputs": [],
   "source": [
    "# step 1 :we need to make sure diagnosis_date is in the right format for time-based analysis -we are workinh on new notebook and reoccurent code can gte back to orginal type string.\n",
    "df['diagnosis_date'] = pd.to_datetime(df['diagnosis_date'], errors='coerce')\n",
    "df['year'] = df['diagnosis_date'].dt.year"
   ]
  },
  {
   "cell_type": "code",
   "execution_count": 4,
   "id": "3568234b-23d4-4a10-92ed-0971d4b83e15",
   "metadata": {},
   "outputs": [],
   "source": [
    "##Step 2: Create a chronic condition flag\n",
    "# We'll mark patients who have been diagnosed with chronic illnesses\n",
    "# These are the patients who already cost more — we want to learn what they look like\n",
    "\n",
    "df['chronic_flag'] = df['diagnosis'].isin(['Diabetes Type 2', 'Hypertension', 'Asthma'])"
   ]
  },
  {
   "cell_type": "code",
   "execution_count": 5,
   "id": "13bd5ec5-f7d4-44e8-a964-aa3b40b20e84",
   "metadata": {},
   "outputs": [
    {
     "data": {
      "text/html": [
       "<div>\n",
       "<style scoped>\n",
       "    .dataframe tbody tr th:only-of-type {\n",
       "        vertical-align: middle;\n",
       "    }\n",
       "\n",
       "    .dataframe tbody tr th {\n",
       "        vertical-align: top;\n",
       "    }\n",
       "\n",
       "    .dataframe thead th {\n",
       "        text-align: right;\n",
       "    }\n",
       "</style>\n",
       "<table border=\"1\" class=\"dataframe\">\n",
       "  <thead>\n",
       "    <tr style=\"text-align: right;\">\n",
       "      <th></th>\n",
       "      <th>bmi</th>\n",
       "      <th>blood_pressure_systolic</th>\n",
       "      <th>cholesterol_total</th>\n",
       "    </tr>\n",
       "    <tr>\n",
       "      <th>chronic_flag</th>\n",
       "      <th></th>\n",
       "      <th></th>\n",
       "      <th></th>\n",
       "    </tr>\n",
       "  </thead>\n",
       "  <tbody>\n",
       "    <tr>\n",
       "      <th>False</th>\n",
       "      <td>24.629019</td>\n",
       "      <td>118.741406</td>\n",
       "      <td>199.970101</td>\n",
       "    </tr>\n",
       "    <tr>\n",
       "      <th>True</th>\n",
       "      <td>25.773691</td>\n",
       "      <td>121.231798</td>\n",
       "      <td>199.822835</td>\n",
       "    </tr>\n",
       "  </tbody>\n",
       "</table>\n",
       "</div>"
      ],
      "text/plain": [
       "                    bmi  blood_pressure_systolic  cholesterol_total\n",
       "chronic_flag                                                       \n",
       "False         24.629019               118.741406         199.970101\n",
       "True          25.773691               121.231798         199.822835"
      ]
     },
     "execution_count": 5,
     "metadata": {},
     "output_type": "execute_result"
    }
   ],
   "source": [
    "## Step 3: Compare biometrics in chronic vs non-chronic patients\n",
    "##Let’s look at how BMI, BP, and cholesterol differ between chronic and non-chronic groups\n",
    "df.groupby('chronic_flag')[['bmi', 'blood_pressure_systolic', 'cholesterol_total']].mean()"
   ]
  },
  {
   "cell_type": "markdown",
   "id": "8b806518-7f93-4ba8-b706-5d6f3335b372",
   "metadata": {},
   "source": [
    "### If chronic patients consistently have higher BMI or cholesterol, those features can be used to flag future risk."
   ]
  },
  {
   "cell_type": "code",
   "execution_count": 6,
   "id": "772f03c4-7314-4347-8095-169c51918ea4",
   "metadata": {},
   "outputs": [
    {
     "data": {
      "text/html": [
       "<div>\n",
       "<style scoped>\n",
       "    .dataframe tbody tr th:only-of-type {\n",
       "        vertical-align: middle;\n",
       "    }\n",
       "\n",
       "    .dataframe tbody tr th {\n",
       "        vertical-align: top;\n",
       "    }\n",
       "\n",
       "    .dataframe thead th {\n",
       "        text-align: right;\n",
       "    }\n",
       "</style>\n",
       "<table border=\"1\" class=\"dataframe\">\n",
       "  <thead>\n",
       "    <tr style=\"text-align: right;\">\n",
       "      <th></th>\n",
       "      <th>patient_id</th>\n",
       "      <th>bmi</th>\n",
       "      <th>cholesterol_total</th>\n",
       "      <th>age</th>\n",
       "      <th>gender</th>\n",
       "      <th>visit_type</th>\n",
       "    </tr>\n",
       "  </thead>\n",
       "  <tbody>\n",
       "    <tr>\n",
       "      <th>35</th>\n",
       "      <td>PAT00020</td>\n",
       "      <td>22.812643</td>\n",
       "      <td>244.0</td>\n",
       "      <td>27.0</td>\n",
       "      <td>Male</td>\n",
       "      <td>NaN</td>\n",
       "    </tr>\n",
       "    <tr>\n",
       "      <th>66</th>\n",
       "      <td>PAT00040</td>\n",
       "      <td>33.365915</td>\n",
       "      <td>210.0</td>\n",
       "      <td>71.0</td>\n",
       "      <td>Male</td>\n",
       "      <td>NaN</td>\n",
       "    </tr>\n",
       "    <tr>\n",
       "      <th>67</th>\n",
       "      <td>PAT00041</td>\n",
       "      <td>18.566764</td>\n",
       "      <td>232.0</td>\n",
       "      <td>37.0</td>\n",
       "      <td>Male</td>\n",
       "      <td>NaN</td>\n",
       "    </tr>\n",
       "    <tr>\n",
       "      <th>69</th>\n",
       "      <td>PAT00043</td>\n",
       "      <td>15.895684</td>\n",
       "      <td>226.0</td>\n",
       "      <td>49.0</td>\n",
       "      <td>Male</td>\n",
       "      <td>NaN</td>\n",
       "    </tr>\n",
       "    <tr>\n",
       "      <th>228</th>\n",
       "      <td>PAT00135</td>\n",
       "      <td>25.844035</td>\n",
       "      <td>225.0</td>\n",
       "      <td>65.0</td>\n",
       "      <td>Female</td>\n",
       "      <td>NaN</td>\n",
       "    </tr>\n",
       "  </tbody>\n",
       "</table>\n",
       "</div>"
      ],
      "text/plain": [
       "    patient_id        bmi  cholesterol_total   age  gender visit_type\n",
       "35    PAT00020  22.812643              244.0  27.0    Male        NaN\n",
       "66    PAT00040  33.365915              210.0  71.0    Male        NaN\n",
       "67    PAT00041  18.566764              232.0  37.0    Male        NaN\n",
       "69    PAT00043  15.895684              226.0  49.0    Male        NaN\n",
       "228   PAT00135  25.844035              225.0  65.0  Female        NaN"
      ]
     },
     "execution_count": 6,
     "metadata": {},
     "output_type": "execute_result"
    }
   ],
   "source": [
    "## Step 4: Identify undiagnosed but high-risk patients\n",
    "# Now we isolate patients who don’t have any diagnosis recorded\n",
    "# Among them, we look for high-risk biometric values (e.g., BMI > 30, high cholesterol)\n",
    "\n",
    "undiagnosed = df[df['diagnosis'].isnull()]\n",
    "high_risk = undiagnosed[(undiagnosed['bmi'] > 30) | (undiagnosed['cholesterol_total'] > 220)]\n",
    "\n",
    "# Preview a few high-risk, undiagnosed patients\n",
    "high_risk[['patient_id', 'bmi', 'cholesterol_total', 'age', 'gender', 'visit_type']].head()"
   ]
  },
  {
   "cell_type": "markdown",
   "id": "f0c4df22-368b-4d8a-8f60-3e6e400e3de1",
   "metadata": {},
   "source": [
    "### These are the patients who haven’t been diagnosed yet, but their vitals suggest they’re on that path — a perfect target for pharmacy or digital check-ins."
   ]
  },
  {
   "cell_type": "code",
   "execution_count": 7,
   "id": "1275eb9d-59b3-497f-980f-7ea3e11929ba",
   "metadata": {},
   "outputs": [
    {
     "data": {
      "text/plain": [
       "risk_group\n",
       "Low         17094\n",
       "Moderate    15137\n",
       "High          915\n",
       "Name: count, dtype: int64"
      ]
     },
     "execution_count": 7,
     "metadata": {},
     "output_type": "execute_result"
    }
   ],
   "source": [
    "## Step 5: Stratify all patients by risk level\n",
    "# We’ll assign a simple risk group label based on combinations of biometric indicators\n",
    "# These aren’t clinical grades — just a starting point for targeting\n",
    "\n",
    "df['risk_group'] = 'Low'\n",
    "df.loc[(df['bmi'] > 30) & (df['cholesterol_total'] > 220), 'risk_group'] = 'High'\n",
    "df.loc[((df['bmi'] > 27) | (df['cholesterol_total'] > 200)) & (df['risk_group'] != 'High'), 'risk_group'] = 'Moderate'\n",
    "\n",
    "# See how many patients fall into each risk group\n",
    "df['risk_group'].value_counts()"
   ]
  },
  {
   "cell_type": "markdown",
   "id": "0fc7681d-6df8-4f8a-a756-51b8f5ccc969",
   "metadata": {},
   "source": [
    "##  This gives Loblaw a way to prioritize who might benefit from proactive care — and it’s simple enough to act on quickly."
   ]
  },
  {
   "cell_type": "code",
   "execution_count": 8,
   "id": "f1fd676a-48f2-42ba-ac40-dbba2d53d98a",
   "metadata": {},
   "outputs": [
    {
     "data": {
      "image/png": "[encoded data removed]",
      "text/plain": [
       "<Figure size 800x500 with 1 Axes>"
      ]
     },
     "metadata": {},
     "output_type": "display_data"
    }
   ],
   "source": [
    "##  Visualize risk profile by care type\n",
    "import seaborn as sns\n",
    "import matplotlib.pyplot as plt\n",
    "\n",
    "# Let’s see where each risk group is showing up — ER, Telehealth, Outpatient\n",
    "plt.figure(figsize=(8, 5))\n",
    "sns.countplot(x='visit_type', hue='risk_group', data=df)\n",
    "plt.title(\"Visit Type by Risk Group\")\n",
    "plt.ylabel(\"Number of Patients\")\n",
    "plt.xlabel(\"Visit Type\")\n",
    "plt.show()"
   ]
  },
  {
   "cell_type": "markdown",
   "id": "721ec100-9f5a-4efa-afbc-8f5c6f8711ce",
   "metadata": {},
   "source": [
    " ## Outpatient visits dominate — especially among Low and Moderate risk patients.\n",
    "These are likely routine or manageable visits. No surprise there.\n",
    "\n",
    "## Emergency visits still have a strong Moderate + High risk presence\n",
    "While Low-risk patients also go to the ER, seeing High-risk patients showing up there is a red flag\n",
    "\n",
    "These are patients we likely could have caught earlier and redirected.\n",
    "\n",
    "### Telehealth is used across all risk groups, but usage is still lower than outpatient, especially among high-risk groups.\n",
    "This suggests an opportunity to increase digital engagement with higher-risk patients through the PC Health app.\n",
    "\n",
    "### Inpatient visits are fairly even but still skew toward Moderate and Low.\n",
    "Not a major focus here, but still important to track for escalations."
   ]
  }
 ],
 "metadata": {
  "kernelspec": {
   "display_name": "Python 3 (ipykernel)",
   "language": "python",
   "name": "python3"
  },
  "language_info": {
   "codemirror_mode": {
    "name": "ipython",
    "version": 3
   },
   "file_extension": ".py",
   "mimetype": "text/x-python",
   "name": "python",
   "nbconvert_exporter": "python",
   "pygments_lexer": "ipython3",
   "version": "3.12.7"
  }
 },
 "nbformat": 4,
 "nbformat_minor": 5
}
