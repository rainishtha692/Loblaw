{
 "cells": [
  {
   "cell_type": "markdown",
   "id": "f804812c-4e75-4ea9-9c3a-06647e22b150",
   "metadata": {},
   "source": [
    "### Merge All Datasets — Patient + Biometric + Medical\n",
    "\n",
    "Alright, this part is about getting everything into one place.\n",
    "\n",
    "We’re starting with three separate files:\n",
    "- Patient demographics (pretty clean and stable)\n",
    "- Biometric indicators (some patients won’t have this—fair enough)\n",
    "- Medical records (this one will be the messiest, I expect)\n",
    "\n",
    "The goal is to create one flat table that has everything we need: who the patient is, what their body metrics are, and what kind of care they’ve received. But I’m cautious here—some joins might multiply rows, especially when patients have multiple diagnoses or visit types"
   ]
  },
  {
   "cell_type": "code",
   "execution_count": 1,
   "id": "818af985-2751-4c00-a31c-bcde43feb330",
   "metadata": {},
   "outputs": [],
   "source": [
    "# Step 0: Load required libraries\n",
    "##  We'll be working mainly with pandas for loading, merging, and previewing data\n",
    "import pandas as pd"
   ]
  },
  {
   "cell_type": "code",
   "execution_count": 2,
   "id": "84b0e357-2e9b-409d-ac57-45756dab9276",
   "metadata": {},
   "outputs": [],
   "source": [
    "# Step 1: Load each dataset\n",
    "# A quick read,just pulling in the raw data first\n",
    "biometric = pd.read_csv(\"Biometric Data.csv\")\n",
    "medical = pd.read_csv(\"Medical Records.csv\")\n",
    "patient = pd.read_csv(\"Patient Data.csv\")"
   ]
  },
  {
   "cell_type": "code",
   "execution_count": 3,
   "id": "a561bd2c-6938-4a4f-beda-f054ede4118c",
   "metadata": {},
   "outputs": [],
   "source": [
    "# Step 2: Keep only the columns that add value to our Business problem statement.\n",
    "patient = patient[['patient_id', 'age', 'gender', 'ethnicity', 'zip_code']]\n",
    "biometric = biometric[['patient_id', 'bmi', 'blood_pressure_systolic', 'blood_pressure_diastolic', 'cholesterol_total']]\n",
    "medical = medical[['patient_id', 'diagnosis', 'diagnosis_date', 'visit_type', 'cost']]"
   ]
  },
  {
   "cell_type": "code",
   "execution_count": 4,
   "id": "0b4cb74b-6587-4aa1-b57b-98378c3db157",
   "metadata": {},
   "outputs": [],
   "source": [
    "# Step 3: Merge biometric and medical data using OUTER JOIN\n",
    "# This is a key move: we want patients who had biometric screening or medical visits, or both.\n",
    "# This way, we capture not just the diagnosed patients, but also the \"at-risk\" ones who may be flying under the radar.\n",
    "core = pd.merge(medical, biometric, on='patient_id', how='outer')"
   ]
  },
  {
   "cell_type": "markdown",
   "id": "ec3b8832-17cf-4e83-9990-fc07c2e50fc0",
   "metadata": {},
   "source": [
    "### Used a LEFT JOIN when adding demographics to the core dataset of patients who had biometric or medical interaction.\n",
    "\n",
    "Why not INNER? Because missing demographic data doesn’t mean the patient is irrelevant — it may mean they’re new or partially recorded. These are often exactly the kinds of patients Loblaw should monitor.\n",
    "\n",
    "I’ll handle missing age/gender/ethnicity in the cleaning step, rather than excluding them prematurely."
   ]
  },
  {
   "cell_type": "code",
   "execution_count": 5,
   "id": "5bee4e32-7638-4b19-918d-4f4b25aac623",
   "metadata": {},
   "outputs": [],
   "source": [
    "# Step 4: Merge in demographic info (LEFT JOIN)\n",
    "# Now that we have a core patient list, we’ll bring in demographic details.\n",
    "# Using a LEFT JOIN here — if some patients don’t have age/gender info, we’ll still keep them (and handle it in cleaning later).\n",
    "merged_df = pd.merge(core, patient, on='patient_id', how='left')"
   ]
  },
  {
   "cell_type": "code",
   "execution_count": 6,
   "id": "4ed52510-2ea5-4f54-a306-7234d582b13e",
   "metadata": {},
   "outputs": [
    {
     "data": {
      "text/html": [
       "<div>\n",
       "<style scoped>\n",
       "    .dataframe tbody tr th:only-of-type {\n",
       "        vertical-align: middle;\n",
       "    }\n",
       "\n",
       "    .dataframe tbody tr th {\n",
       "        vertical-align: top;\n",
       "    }\n",
       "\n",
       "    .dataframe thead th {\n",
       "        text-align: right;\n",
       "    }\n",
       "</style>\n",
       "<table border=\"1\" class=\"dataframe\">\n",
       "  <thead>\n",
       "    <tr style=\"text-align: right;\">\n",
       "      <th></th>\n",
       "      <th>patient_id</th>\n",
       "      <th>diagnosis</th>\n",
       "      <th>diagnosis_date</th>\n",
       "      <th>visit_type</th>\n",
       "      <th>cost</th>\n",
       "      <th>bmi</th>\n",
       "      <th>blood_pressure_systolic</th>\n",
       "      <th>blood_pressure_diastolic</th>\n",
       "      <th>cholesterol_total</th>\n",
       "      <th>age</th>\n",
       "      <th>gender</th>\n",
       "      <th>ethnicity</th>\n",
       "      <th>zip_code</th>\n",
       "    </tr>\n",
       "  </thead>\n",
       "  <tbody>\n",
       "    <tr>\n",
       "      <th>0</th>\n",
       "      <td>PAT00001</td>\n",
       "      <td>Common Cold</td>\n",
       "      <td>4/11/2024</td>\n",
       "      <td>Emergency</td>\n",
       "      <td>60.32</td>\n",
       "      <td>21.283985</td>\n",
       "      <td>131.0</td>\n",
       "      <td>78.0</td>\n",
       "      <td>191.0</td>\n",
       "      <td>33.0</td>\n",
       "      <td>Male</td>\n",
       "      <td>African American</td>\n",
       "      <td>92106</td>\n",
       "    </tr>\n",
       "    <tr>\n",
       "      <th>1</th>\n",
       "      <td>PAT00002</td>\n",
       "      <td>Depression</td>\n",
       "      <td>3/15/2024</td>\n",
       "      <td>Outpatient</td>\n",
       "      <td>587.01</td>\n",
       "      <td>21.267961</td>\n",
       "      <td>103.0</td>\n",
       "      <td>65.0</td>\n",
       "      <td>211.0</td>\n",
       "      <td>54.0</td>\n",
       "      <td>Female</td>\n",
       "      <td>African American</td>\n",
       "      <td>24249</td>\n",
       "    </tr>\n",
       "    <tr>\n",
       "      <th>2</th>\n",
       "      <td>PAT00002</td>\n",
       "      <td>Hypertension</td>\n",
       "      <td>8/1/2020</td>\n",
       "      <td>Outpatient</td>\n",
       "      <td>439.93</td>\n",
       "      <td>21.267961</td>\n",
       "      <td>103.0</td>\n",
       "      <td>65.0</td>\n",
       "      <td>211.0</td>\n",
       "      <td>54.0</td>\n",
       "      <td>Female</td>\n",
       "      <td>African American</td>\n",
       "      <td>24249</td>\n",
       "    </tr>\n",
       "    <tr>\n",
       "      <th>3</th>\n",
       "      <td>PAT00003</td>\n",
       "      <td>NaN</td>\n",
       "      <td>NaN</td>\n",
       "      <td>NaN</td>\n",
       "      <td>NaN</td>\n",
       "      <td>27.460336</td>\n",
       "      <td>106.0</td>\n",
       "      <td>74.0</td>\n",
       "      <td>190.0</td>\n",
       "      <td>65.0</td>\n",
       "      <td>Female</td>\n",
       "      <td>Caucasian</td>\n",
       "      <td>81306</td>\n",
       "    </tr>\n",
       "    <tr>\n",
       "      <th>4</th>\n",
       "      <td>PAT00004</td>\n",
       "      <td>Common Cold</td>\n",
       "      <td>10/3/2021</td>\n",
       "      <td>Telehealth</td>\n",
       "      <td>148.96</td>\n",
       "      <td>25.898735</td>\n",
       "      <td>112.0</td>\n",
       "      <td>73.0</td>\n",
       "      <td>233.0</td>\n",
       "      <td>27.0</td>\n",
       "      <td>Female</td>\n",
       "      <td>Asian</td>\n",
       "      <td>81707</td>\n",
       "    </tr>\n",
       "  </tbody>\n",
       "</table>\n",
       "</div>"
      ],
      "text/plain": [
       "  patient_id     diagnosis diagnosis_date  visit_type    cost        bmi  \\\n",
       "0   PAT00001   Common Cold      4/11/2024   Emergency   60.32  21.283985   \n",
       "1   PAT00002    Depression      3/15/2024  Outpatient  587.01  21.267961   \n",
       "2   PAT00002  Hypertension       8/1/2020  Outpatient  439.93  21.267961   \n",
       "3   PAT00003           NaN            NaN         NaN     NaN  27.460336   \n",
       "4   PAT00004   Common Cold      10/3/2021  Telehealth  148.96  25.898735   \n",
       "\n",
       "   blood_pressure_systolic  blood_pressure_diastolic  cholesterol_total   age  \\\n",
       "0                    131.0                      78.0              191.0  33.0   \n",
       "1                    103.0                      65.0              211.0  54.0   \n",
       "2                    103.0                      65.0              211.0  54.0   \n",
       "3                    106.0                      74.0              190.0  65.0   \n",
       "4                    112.0                      73.0              233.0  27.0   \n",
       "\n",
       "   gender         ethnicity  zip_code  \n",
       "0    Male  African American     92106  \n",
       "1  Female  African American     24249  \n",
       "2  Female  African American     24249  \n",
       "3  Female         Caucasian     81306  \n",
       "4  Female             Asian     81707  "
      ]
     },
     "execution_count": 6,
     "metadata": {},
     "output_type": "execute_result"
    }
   ],
   "source": [
    "#Step 5: Just peeking at the top of the dataset to confirm it looks okay.\n",
    "merged_df.head()"
   ]
  },
  {
   "cell_type": "code",
   "execution_count": 7,
   "id": "8a67b7bf-2fc0-4a78-bdfe-de4e6872f986",
   "metadata": {},
   "outputs": [],
   "source": [
    " ##Save Merged Dataset \n",
    "##Just to be safe, I’m saving this merged dataset as a CSV. It’s not cleaned yet, but I don’t want to risk redoing all the joins if something crashes or I need to restart the notebook later.\n",
    "\n",
    "# Save the merged dataset to a new CSV\n",
    "merged_df.to_csv(\"Merged_Healthcare_Data.csv\", index=False)"
   ]
  },
  {
   "cell_type": "code",
   "execution_count": 8,
   "id": "52829b10-6735-48d8-9ab4-da39f4763402",
   "metadata": {},
   "outputs": [
    {
     "name": "stdout",
     "output_type": "stream",
     "text": [
      "Merged dataset saved as 'Merged_Healthcare_Data.csv'\n"
     ]
    }
   ],
   "source": [
    "# Just confirming it saved successfully\n",
    "print(\"Merged dataset saved as 'Merged_Healthcare_Data.csv'\")"
   ]
  }
 ],
 "metadata": {
  "kernelspec": {
   "display_name": "Python 3 (ipykernel)",
   "language": "python",
   "name": "python3"
  },
  "language_info": {
   "codemirror_mode": {
    "name": "ipython",
    "version": 3
   },
   "file_extension": ".py",
   "mimetype": "text/x-python",
   "name": "python",
   "nbconvert_exporter": "python",
   "pygments_lexer": "ipython3",
   "version": "3.12.7"
  }
 },
 "nbformat": 4,
 "nbformat_minor": 5
}
